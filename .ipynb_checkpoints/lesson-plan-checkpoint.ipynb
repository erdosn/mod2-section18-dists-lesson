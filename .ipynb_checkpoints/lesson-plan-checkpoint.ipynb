{
 "cells": [
  {
   "cell_type": "markdown",
   "metadata": {},
   "source": [
    "### Questions\n",
    "* No questions...."
   ]
  },
  {
   "cell_type": "markdown",
   "metadata": {},
   "source": [
    "### Objectives\n",
    "YWBAT\n",
    "* Interpret Skewness and Kurtosis equations\n",
    "* define which parameters define specific distributions\n",
    "* Measure normality on a dataset\n",
    "* Define a poisson distribution "
   ]
  },
  {
   "cell_type": "markdown",
   "metadata": {},
   "source": [
    "### Key Takeaways\n",
    "* understand how parameters define distributions\n",
    "* apply distributions to solve problems"
   ]
  },
  {
   "cell_type": "markdown",
   "metadata": {},
   "source": [
    "### Outline\n",
    "* Discuss some distributions and their use cases\n",
    "* Normal distribution measurements (skewness, kurtotis, jacque-bera)"
   ]
  },
  {
   "cell_type": "code",
   "execution_count": 4,
   "metadata": {},
   "outputs": [],
   "source": [
    "import pandas as pd\n",
    "import numpy as np\n",
    "import scipy.stats as stats\n",
    "\n",
    "import matplotlib.pyplot as plt"
   ]
  },
  {
   "cell_type": "markdown",
   "metadata": {},
   "source": [
    "### What is/are a parameter(s)?\n",
    "From parameters we get an idea of how it looks"
   ]
  },
  {
   "cell_type": "markdown",
   "metadata": {},
   "source": [
    "### Normal\n",
    "**Parameters**\n",
    "* $\\mu$ - mean\n",
    "* $\\sigma$ - standard deviation\n",
    "\n",
    "**Shape**\n",
    "* Bell curve\n",
    "\n",
    "\n",
    "**When**\n",
    "* Looking at populations or samples from a populations"
   ]
  },
  {
   "cell_type": "markdown",
   "metadata": {},
   "source": [
    "### Exponential Distributions\n",
    "**Parameter**\n",
    "* $\\lambda$ - exponent - rate of decay/growth\n",
    "\n",
    "**Shape**\n",
    "* Exponential curve\n",
    "\n",
    "**When**\n",
    "* growth/decay\n",
    "* physics \n",
    "* population\n",
    "* inflation"
   ]
  },
  {
   "cell_type": "markdown",
   "metadata": {},
   "source": [
    "### Poisson \n",
    "Parameter\n",
    "* $\\lambda$ - exponent - rate at k number events occur in some given time\n",
    "\n",
    "Example:\n",
    "* 15 people walk into a starbucks every 10 minutes between the hours of 6 am and 10 am.\n",
    "\n",
    "    * $\\lambda\\$ = 15people/10minute\n",
    "\n",
    "Shape\n",
    "* exponential curve\n",
    "\n",
    "When\n",
    "* Time Series ? \n",
    "* counts over time\n",
    "* earthquakes in a month\n",
    "* floods in a month\n",
    "* number of teens that go viral on instagram per month\n",
    "* number of celebrities trending per day"
   ]
  },
  {
   "cell_type": "markdown",
   "metadata": {},
   "source": [
    "### Binomial Distribution\n",
    "Parameters\n",
    "* p = probability of success\n",
    "* q = (1 - p) probability of no success\n",
    "\n",
    "Example\n",
    "* Flipping a coin\n",
    "* Getting a match on a swipe\n",
    "* Getting a like on an interaction\n",
    "* Catching a fish\n",
    "* Winning on a lotto ticket"
   ]
  },
  {
   "cell_type": "markdown",
   "metadata": {},
   "source": [
    "### Let's get into Normal Distributions\n",
    "how do we measure normality?"
   ]
  },
  {
   "cell_type": "code",
   "execution_count": 38,
   "metadata": {},
   "outputs": [
    {
     "data": {
      "text/plain": [
       "(9.99, 5.816347651232688)"
      ]
     },
     "execution_count": 38,
     "metadata": {},
     "output_type": "execute_result"
    }
   ],
   "source": [
    "# let's make a random list of integers between 0 and 20\n",
    "x = np.random.randint(0, 20, 100)\n",
    "x.mean(), x.std()"
   ]
  },
  {
   "cell_type": "code",
   "execution_count": 39,
   "metadata": {},
   "outputs": [
    {
     "data": {
      "text/plain": [
       "[]"
      ]
     },
     "execution_count": 39,
     "metadata": {},
     "output_type": "execute_result"
    },
    {
     "data": {
      "image/png": "[encoded data removed]",
      "text/plain": [
       "<matplotlib.figure.Figure at 0x1a1e0026d8>"
      ]
     },
     "metadata": {},
     "output_type": "display_data"
    }
   ],
   "source": [
    "plt.figure(figsize=(6, 6))\n",
    "plt.hist(x, label='x', alpha=0.5, bins=20)\n",
    "plt.vlines(x=x.mean(), ymin=0, ymax=12, colors='r', linestyle='dashed')\n",
    "plt.vlines(x=x.mean() + stats.kurtosis(x)*x.std(), ymin=0, ymax=12, colors='r', linestyle='dashed')\n",
    "plt.vlines(x=x.mean() - stats.kurtosis(x)*x.std(), ymin=0, ymax=12, colors='r', linestyle='dashed')\n",
    "plt.plot()"
   ]
  },
  {
   "cell_type": "markdown",
   "metadata": {},
   "source": [
    "### Measure the Skewness and Kurtosis"
   ]
  },
  {
   "cell_type": "code",
   "execution_count": 40,
   "metadata": {},
   "outputs": [
    {
     "data": {
      "text/plain": [
       "(0.03834443137697264, 1.7922755476260055)"
      ]
     },
     "execution_count": 40,
     "metadata": {},
     "output_type": "execute_result"
    }
   ],
   "source": [
    "skew = stats.skew(x)\n",
    "kurtosis = stats.kurtosis(x, fisher=False)\n",
    "skew, kurtosis\n",
    "\n",
    "# skewness measures symmetry\n",
    "# kurtosis measures tendancy around mean\n",
    "# most points should fall within 3 std of mean\n",
    "# kurtosis should be around 3"
   ]
  },
  {
   "cell_type": "markdown",
   "metadata": {},
   "source": [
    "### get percentages for standard deviation ranges"
   ]
  },
  {
   "cell_type": "code",
   "execution_count": 41,
   "metadata": {},
   "outputs": [
    {
     "name": "stdout",
     "output_type": "stream",
     "text": [
      "points within 1 standard deviations = 0.76\n",
      "points within 2 standard deviations = 1.0\n",
      "points within 3 standard deviations = 1.0\n",
      "points within 4 standard deviations = 1.0\n"
     ]
    }
   ],
   "source": [
    "# what does this return?\n",
    "for i in range(1, 5):\n",
    "    num_points = np.where(abs(x) < (x.mean() + i*x.std()))[0].shape[0]\n",
    "    print(\"points within {} standard deviations = {}\".format(i, num_points/100))\n",
    "    # tuple "
   ]
  },
  {
   "cell_type": "code",
   "execution_count": 42,
   "metadata": {},
   "outputs": [
    {
     "data": {
      "text/plain": [
       "3.266654804578821"
      ]
     },
     "execution_count": 42,
     "metadata": {},
     "output_type": "execute_result"
    }
   ],
   "source": [
    "(x.max() - x.min()) / x.std()"
   ]
  },
  {
   "cell_type": "markdown",
   "metadata": {},
   "source": [
    "### Let's make a normal dataset"
   ]
  },
  {
   "cell_type": "code",
   "execution_count": 44,
   "metadata": {},
   "outputs": [
    {
     "data": {
      "text/plain": [
       "(51.24410762979849, 10.21525296996087)"
      ]
     },
     "execution_count": 44,
     "metadata": {},
     "output_type": "execute_result"
    }
   ],
   "source": [
    "nx = np.random.normal(50, 10, 200)\n",
    "nx.mean(), nx.std()"
   ]
  },
  {
   "cell_type": "code",
   "execution_count": 48,
   "metadata": {},
   "outputs": [
    {
     "data": {
      "text/plain": [
       "[]"
      ]
     },
     "execution_count": 48,
     "metadata": {},
     "output_type": "execute_result"
    },
    {
     "data": {
      "image/png": "[encoded data removed]",
      "text/plain": [
       "<matplotlib.figure.Figure at 0x1a1d7e0cc0>"
      ]
     },
     "metadata": {},
     "output_type": "display_data"
    }
   ],
   "source": [
    "plt.figure(figsize=(6, 6))\n",
    "plt.hist(nx, label='x', alpha=0.5, bins=20)\n",
    "plt.vlines(x=nx.mean(), ymin=0, ymax=20, colors='r', linestyle='dashed')\n",
    "plt.vlines(x=nx.mean() + nx.std(), ymin=0, ymax=20, colors='r', linestyle='dashed')\n",
    "plt.vlines(x=nx.mean() - nx.std(), ymin=0, ymax=20, colors='r', linestyle='dashed')\n",
    "plt.plot()"
   ]
  },
  {
   "cell_type": "code",
   "execution_count": 50,
   "metadata": {},
   "outputs": [
    {
     "data": {
      "text/plain": [
       "(0.08121339275464987, 2.6319063868223505)"
      ]
     },
     "execution_count": 50,
     "metadata": {},
     "output_type": "execute_result"
    }
   ],
   "source": [
    "skew = stats.skew(nx)\n",
    "kurt = stats.kurtosis(nx, fisher=False)\n",
    "skew, kurt"
   ]
  },
  {
   "cell_type": "code",
   "execution_count": null,
   "metadata": {},
   "outputs": [],
   "source": []
  },
  {
   "cell_type": "code",
   "execution_count": null,
   "metadata": {},
   "outputs": [],
   "source": []
  },
  {
   "cell_type": "markdown",
   "metadata": {},
   "source": [
    "### Assessment"
   ]
  },
  {
   "cell_type": "markdown",
   "metadata": {},
   "source": [
    "What does it mean to have a skewness close to 0?\n",
    "* Balanced\n",
    "* Symmetrical\n",
    "\n",
    "What does it mean to have a kurtosis (pearson) close to 3?\n",
    "* The distribution has the same kurtosis as a normal distribution\n",
    "* Most of your data lies within 3 standard deviations from mean\n",
    "\n",
    "\n",
    "\n",
    "Need both to measure normality!!!\n",
    "\n",
    "Skewness close to 0\n",
    "\n",
    "Kurtosis close to 3"
   ]
  }
 ],
 "metadata": {
  "kernelspec": {
   "display_name": "Python 3",
   "language": "python",
   "name": "python3"
  },
  "language_info": {
   "codemirror_mode": {
    "name": "ipython",
    "version": 3
   },
   "file_extension": ".py",
   "mimetype": "text/x-python",
   "name": "python",
   "nbconvert_exporter": "python",
   "pygments_lexer": "ipython3",
   "version": "3.6.4"
  }
 },
 "nbformat": 4,
 "nbformat_minor": 2
}
