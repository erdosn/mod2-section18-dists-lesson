{
 "cells": [
  {
   "cell_type": "markdown",
   "metadata": {},
   "source": [
    "### Questions"
   ]
  },
  {
   "cell_type": "markdown",
   "metadata": {},
   "source": [
    "### Objectives\n",
    "YWBAT\n",
    "\n",
    "* day 1\n",
    "    * define a PMF, PDF and CDF\n",
    "    * list the parameters that define specific distributions (Bernoulli and Binomial, Normal)\n",
    "    * evaulate a normal distribution\n",
    "\n",
    "* day 2\n",
    "    * list the parameters that define specific distributions\n",
    "    * apply distributions to solve problems\n",
    "    * list scenarios where each distribution can be used\n"
   ]
  },
  {
   "cell_type": "markdown",
   "metadata": {},
   "source": [
    "### Outline\n",
    "* Discuss some distributions and their use cases\n",
    "* Normal distribution measurements (skewness, kurtotis, jacque-bera)"
   ]
  },
  {
   "cell_type": "code",
   "execution_count": 1,
   "metadata": {},
   "outputs": [],
   "source": [
    "import pandas as pd\n",
    "import numpy as np\n",
    "import scipy.stats as stats\n",
    "\n",
    "import matplotlib.pyplot as plt"
   ]
  },
  {
   "cell_type": "markdown",
   "metadata": {},
   "source": [
    "### What is/are a parameter(s)?\n",
    "From parameters we get an idea of how it looks\n",
    "Parameters define a distribution\n",
    "\n",
    "### Normal Distribution\n",
    "* Discrete or Continuous? \n",
    "    * you can apply both\n",
    "* Parameters\n",
    "    * standard deviation, $\\sigma$\n",
    "    * mean, $\\mu$\n",
    "* Use Cases\n",
    "    * When we're asking questions about a sample or a population. \n",
    "    \n",
    "* Examples\n",
    "    * Given a normal distribution of discuss throws has a mean of 80 ft and a standard deviation of 5 ft, what is the probability of choosing a throw that is 70 ft? \n",
    "        * P(70) = 0\n",
    "        * P(X=x) = 0, for all values of x\n",
    "    * To calculate probabilities of a continuous distribution you need an interval.\n",
    "    \n",
    "    * This would change to \n",
    "        *  * Given a normal distribution of discuss throws has a mean of 80 ft and a standard deviation of 5 ft, what is the probability of choosing a throw that is between 69.9 ft and 70.1 ft? \n",
    "        \n",
    "### (Bernoulli) Binomial Distribution\n",
    "* Parameters\n",
    "    * probability of success, p\n",
    "    * number of trials, n\n",
    "    * number of successes, k\n",
    "* Use Cases\n",
    "    * binary results (yes vs no, hit vs miss, 0 vs 1, win vs loss)\n",
    "    * If you have a fairly weighted coin and you flip it 5 times, what is the probability of flipping a head 4 times? \n",
    "        * does this use a PDF or CDF? PDF, because I'm asking for one specific value on my Probability Distribution\n",
    "        * 5C4(0.5^5)\n",
    "    * If you have a fairly weighted coin and you flip it 5 times, what is the probability of flipping at least 4?\n",
    "        * P(4 heads|X=0.50) + P(5 heads|X=0.50) = 5C4(0.5^5) + 5C5(0.5^5)\n",
    "        \n",
    "    * The probability of Andrew spending more 20 dollars at HEB is 0.10.  If Andrew goes to HEB 4 times a month, what is the probability he spends more than 20 dollars at least twice. \n",
    "        * CDF \n",
    "        * P(k>=2|p(k)==0.10, n=4) = P(2) + P(3) + P(4) \n",
    "            * P(2) = 4C2(0.1^2 \\* 0.9^2)\n",
    "            * P(3) = 4C3(0.1^3 \\* 0.9)\n",
    "            * P(4) = 4C4(0.1^4)\n",
    "        \n",
    "    * Continuous or Discrete?\n",
    "        * Discrete, because it's defined by n trials and k successes, both are integers and because it's win vs loss which is binary. \n",
    " \n",
    "\n",
    "    \n",
    "    \n",
    "### Poisson Distribution\n",
    "* Parameters\n",
    "* Use Cases\n",
    "\n",
    "\n",
    "### Exponential Distributionf\n",
    "* Parameters\n",
    "* Use Cases\n",
    "    \n",
    "\n",
    "### Uniform Distribution\n",
    "* Parameters\n",
    "* Use Cases"
   ]
  },
  {
   "cell_type": "markdown",
   "metadata": {},
   "source": [
    "### Let's get into Normal Distributions\n",
    "how do we measure normality?\n",
    "\n",
    "* Mean, Median, Mode being equal...hmmm...this is great for symmetry, but misses the bell curve\n",
    "* 65, 95, 99.7 test 1std, 2std, 3stds from the mean, checks the bell curve\n",
    "* Skewness....\n",
    "    * How well the data is distributed about the mean\n",
    "    * How 'centered' the data is\n",
    "    * which direction the data is stretched\n",
    "* Kurtosis....\n",
    "    * How fat/thin the tails are"
   ]
  },
  {
   "cell_type": "code",
   "execution_count": 25,
   "metadata": {},
   "outputs": [
    {
     "data": {
      "image/png": "[encoded data removed]",
      "text/plain": [
       "<Figure size 432x288 with 1 Axes>"
      ]
     },
     "metadata": {
      "needs_background": "light"
     },
     "output_type": "display_data"
    }
   ],
   "source": [
    "# let's make a random list of integers between 0 and 20\n",
    "x = np.random.normal(100, 10, 10000)\n",
    "plt.hist(x)\n",
    "plt.show()"
   ]
  },
  {
   "cell_type": "code",
   "execution_count": 26,
   "metadata": {},
   "outputs": [
    {
     "name": "stdout",
     "output_type": "stream",
     "text": [
      "Skewness = -0.00037496692678199914\n",
      "Kurtosis (normal) = 2.9211109969902465\n",
      "Kurtosis (Fisher) = -0.07888900300975354\n"
     ]
    }
   ],
   "source": [
    "# let's calculate skewness and kurtosis\n",
    "# desired skewness = 0\n",
    "# skewness measures symmetry\n",
    "\n",
    "print(f\"Skewness = {stats.skew(x)}\")\n",
    "\n",
    "\n",
    "# desired kurtosis score = 3\n",
    "print(f\"Kurtosis (normal) = {stats.kurtosis(x, fisher=False)}\")\n",
    "print(f\"Kurtosis (Fisher) = {stats.kurtosis(x)}\")"
   ]
  },
  {
   "cell_type": "code",
   "execution_count": 27,
   "metadata": {},
   "outputs": [
    {
     "data": {
      "text/plain": [
       "(0.999799907207489, 0.5040658712387085)"
      ]
     },
     "execution_count": 27,
     "metadata": {},
     "output_type": "execute_result"
    }
   ],
   "source": [
    "# test for normality\n",
    "# shapiro test\n",
    "# H0 : x is normal (fail to reject this) -> pvalue > 0.05\n",
    "# HA: x is not normal\n",
    "\n",
    "stats.shapiro(x)"
   ]
  },
  {
   "cell_type": "markdown",
   "metadata": {},
   "source": [
    "### get percentages for standard deviation ranges"
   ]
  },
  {
   "cell_type": "code",
   "execution_count": 28,
   "metadata": {},
   "outputs": [
    {
     "name": "stdout",
     "output_type": "stream",
     "text": [
      "points within 1 standard deviations = 83.92\n",
      "points within 2 standard deviations = 97.85\n",
      "points within 3 standard deviations = 99.88\n",
      "points within 4 standard deviations = 99.99\n"
     ]
    }
   ],
   "source": [
    "# what does this return?\n",
    "for i in range(1, 5):\n",
    "    num_points = np.where(abs(x) < (x.mean() + i*x.std()))[0].shape[0]\n",
    "    print(\"points within {} standard deviations = {}\".format(i, num_points/100))\n",
    "    # tuple "
   ]
  },
  {
   "cell_type": "markdown",
   "metadata": {},
   "source": [
    "### Standard Normal Distribution\n",
    "* This is a normal distribution\n",
    "* mu = 0, std = 1\n",
    "* How can we transform any distribution to the standard normal?"
   ]
  },
  {
   "cell_type": "code",
   "execution_count": 33,
   "metadata": {},
   "outputs": [
    {
     "name": "stdout",
     "output_type": "stream",
     "text": [
      "99.83835301532702 9.98035682742741\n"
     ]
    },
    {
     "data": {
      "image/png": "[encoded data removed]",
      "text/plain": [
       "<Figure size 432x288 with 1 Axes>"
      ]
     },
     "metadata": {
      "needs_background": "light"
     },
     "output_type": "display_data"
    }
   ],
   "source": [
    "print(x.mean(), x.std())\n",
    "plt.hist(x)\n",
    "plt.show()"
   ]
  },
  {
   "cell_type": "code",
   "execution_count": 32,
   "metadata": {},
   "outputs": [
    {
     "data": {
      "text/plain": [
       "9.98035682742741"
      ]
     },
     "execution_count": 32,
     "metadata": {},
     "output_type": "execute_result"
    }
   ],
   "source": [
    "np.std(x - x.mean())"
   ]
  },
  {
   "cell_type": "code",
   "execution_count": 34,
   "metadata": {},
   "outputs": [],
   "source": [
    "def zscore(x):\n",
    "    return (x - x.mean()) / x.std()"
   ]
  },
  {
   "cell_type": "code",
   "execution_count": 35,
   "metadata": {},
   "outputs": [],
   "source": [
    "x_standard = zscore(x)"
   ]
  },
  {
   "cell_type": "code",
   "execution_count": 37,
   "metadata": {},
   "outputs": [
    {
     "data": {
      "image/png": "[encoded data removed]",
      "text/plain": [
       "<Figure size 432x288 with 1 Axes>"
      ]
     },
     "metadata": {
      "needs_background": "light"
     },
     "output_type": "display_data"
    }
   ],
   "source": [
    "plt.hist(x_standard)\n",
    "plt.show()"
   ]
  },
  {
   "cell_type": "code",
   "execution_count": 40,
   "metadata": {},
   "outputs": [
    {
     "name": "stdout",
     "output_type": "stream",
     "text": [
      "93.70523689759194 -0.6145187215030643\n",
      "89.24607124223652 -1.0613129326179427\n"
     ]
    }
   ],
   "source": [
    "print(x[0], x_standard[0])\n",
    "print(x[1], x_standard[1])\n",
    "\n",
    "# the standard deviations a point is from the mean"
   ]
  },
  {
   "cell_type": "markdown",
   "metadata": {},
   "source": [
    "### What is the benefit of standardizing normal distributions? \n",
    "* You can more easily see the points within standard deviations\n",
    "* Makes it easier to compare datasets"
   ]
  },
  {
   "cell_type": "markdown",
   "metadata": {},
   "source": [
    "### What did we learn? \n",
    "* Learned the explicit difference and visual difference between PDF and CDF.\n",
    "* What are zcore standardization\n",
    "* Continuous vs discrete\n",
    "* Skewness measures the symmetry around the mean\n",
    "* Kurtosis measures the peakiness\n",
    "    * small kurtosis - most points are really close to the mean\n",
    "    * large kurtosis - lots of outliers\n",
    "* What does a zscore measure? \n",
    "    * 'distance' from the mean in terms of standard deviation"
   ]
  },
  {
   "cell_type": "markdown",
   "metadata": {},
   "source": [
    "### Objectives for Day 2\n",
    "YWBAT \n",
    "* define the parameters and cases for exponential, poisson, uniform distributions\n",
    "* explain ztesting\n",
    "\n",
    "### Outline\n",
    "* take notes on the parameters for \n",
    "    * uniform distributions\n",
    "    * poisson distributions\n",
    "    * exponential distributions"
   ]
  },
  {
   "cell_type": "markdown",
   "metadata": {},
   "source": [
    "### Notes on Distributions\n",
    "- Uniform\n",
    "    * Parameters\n",
    "        * possible outcomes\n",
    "            * why is rolling a dice uniform? - because each outcome has the same probability\n",
    "            * discrete\n",
    "                * rolling a dice\n",
    "                * flipping a coin\n",
    "                * making a turn that you don't care about\n",
    "                * drawing a card as the first card from a deck\n",
    "                * P(X=event|n_outcomes) = $\\frac{1}{n}$\n",
    "            * continuous\n",
    "                * the numbers between 1 and 5\n",
    "                    * P(X = 2) = 0\n",
    "                    * P(X <= 3) = 2 * 0.25 = 0.50\n",
    "                * the numbers between 1 and 6\n",
    "                    * P(X <= 2 or X>=5) = P(X<=2) + P(X>=5) = 0.20 + 0.20 = 0.40\n",
    "                    * P(X <= 5) = 0.8\n",
    "                * P(X=event|continuous range) = 0\n",
    "\n",
    "- Poisson Distributions\n",
    "    * Parameters\n",
    "        * lambda $\\lambda$, rate of an event occurring\n",
    "            * 2 measurements, event/interval\n",
    "        * x or n, number of events to occur in that interval\n",
    "    * Discrete\n",
    "        * number of events is always a whole number\n",
    "    * Example\n",
    "        * There are 10 people that tweet about the google pixel 4, every 20 minutes. What is the probability that 5 people will tweet about it in 20 minutes? \n",
    "        \n",
    "        \n",
    " - Exponential Distribution\n",
    "     * Parameters\n",
    "         * lambda, rate of change\n",
    "     * Continuous\n",
    "         * continuous version of poisson\n",
    "         * P(X=k) = 0\n",
    "     * Example of Scenarios\n",
    "         * Half Life of a particle\n",
    "         * Culture in a petri dish\n",
    "         * Battery Life of your phone/laptop\n",
    "         * Human population\n",
    "         * The likeliness that Schröedingers cat has died\n",
    "         * Inflation\n",
    "         * Interest"
   ]
  },
  {
   "cell_type": "code",
   "execution_count": 46,
   "metadata": {},
   "outputs": [],
   "source": [
    "import numpy as np\n",
    "from math import factorial\n",
    "\n",
    "def poisson(lam, x):\n",
    "    p = (lam**x * np.exp(-lam)) / factorial(x)\n",
    "    return p"
   ]
  },
  {
   "cell_type": "code",
   "execution_count": 59,
   "metadata": {},
   "outputs": [],
   "source": [
    "events = list(range(0, 50))\n",
    "\n",
    "# rate is the number of occurences in investigated time interval\n",
    "# \n",
    "lam = 10 \n",
    "\n",
    "probabilities = [poisson(lam=lam, x=i) for i in events]"
   ]
  },
  {
   "cell_type": "code",
   "execution_count": 60,
   "metadata": {},
   "outputs": [],
   "source": [
    "import matplotlib.pyplot as plt"
   ]
  },
  {
   "cell_type": "code",
   "execution_count": 62,
   "metadata": {},
   "outputs": [
    {
     "data": {
      "image/png": "[encoded data removed]",
      "text/plain": [
       "<Figure size 576x360 with 1 Axes>"
      ]
     },
     "metadata": {
      "needs_background": "light"
     },
     "output_type": "display_data"
    }
   ],
   "source": [
    "plt.figure(figsize=(8, 5))\n",
    "plt.plot(events, probabilities, linewidth=2)\n",
    "plt.title(f\"Poisson Distribution for {lam}\")\n",
    "plt.xticks(events, events, rotation=90)\n",
    "plt.show()"
   ]
  },
  {
   "cell_type": "markdown",
   "metadata": {},
   "source": [
    "Question 2:\n",
    "\n",
    "There are 10 people that tweet about the google pixel 4, every 20 minutes. What is the probability that 5 people will tweet about it in 5 minutes?"
   ]
  },
  {
   "cell_type": "code",
   "execution_count": 64,
   "metadata": {},
   "outputs": [
    {
     "data": {
      "text/plain": [
       "0.06680094289054264"
      ]
     },
     "execution_count": 64,
     "metadata": {},
     "output_type": "execute_result"
    }
   ],
   "source": [
    "lam = 10/4 # since 10 people tweet every 20 minutes and 20/4 = 5 minutes\n",
    "\n",
    "poisson(lam=lam, x=5)"
   ]
  },
  {
   "cell_type": "markdown",
   "metadata": {},
   "source": [
    "### What is something you learned about? \n",
    "* In a poisson distribution, time (or your interval) is very important\n",
    "* Poisson distributions are discrete because the number of the events is whole\n",
    "* Poisson/Exponential is used for observing the rate of change on an interval\n",
    "    * Poisson observations are discrete\n",
    "    * Exponential are continuous\n",
    "* How do you calculate the probability of a uniform continuous distribution?\n",
    "    * Calculate the area of the rectangle bounded by your desired events\n",
    "    * It's a rectangle, because in a uniform distribution, every event has the same probability of occurring"
   ]
  },
  {
   "cell_type": "code",
   "execution_count": null,
   "metadata": {},
   "outputs": [],
   "source": []
  }
 ],
 "metadata": {
  "kernelspec": {
   "display_name": "Python 3",
   "language": "python",
   "name": "python3"
  },
  "language_info": {
   "codemirror_mode": {
    "name": "ipython",
    "version": 3
   },
   "file_extension": ".py",
   "mimetype": "text/x-python",
   "name": "python",
   "nbconvert_exporter": "python",
   "pygments_lexer": "ipython3",
   "version": "3.6.0"
  }
 },
 "nbformat": 4,
 "nbformat_minor": 2
}
