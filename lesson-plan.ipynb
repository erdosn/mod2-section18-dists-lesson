{
 "cells": [
  {
   "cell_type": "markdown",
   "metadata": {},
   "source": [
    "### Questions\n",
    "* Exponential Distribution Mean"
   ]
  },
  {
   "cell_type": "markdown",
   "metadata": {},
   "source": [
    "### Key Takeaways\n",
    "* understand how parameters define distributions\n",
    "* apply distributions to solve problems"
   ]
  },
  {
   "cell_type": "markdown",
   "metadata": {},
   "source": [
    "### Outline\n",
    "* Discuss some distributions and their use cases\n",
    "* Normal distribution measurements (skewness, kurtotis, jacque-bera)"
   ]
  },
  {
   "cell_type": "code",
   "execution_count": 1,
   "metadata": {},
   "outputs": [],
   "source": [
    "import pandas as pd\n",
    "import numpy as np\n",
    "import scipy.stats as stats\n",
    "\n",
    "import matplotlib.pyplot as plt"
   ]
  },
  {
   "cell_type": "markdown",
   "metadata": {},
   "source": [
    "### What is/are a parameter(s)?\n",
    "From parameters we get an idea of how it looks\n",
    "Parameters define a distribution\n",
    "\n",
    "### Normal Distribution\n",
    "* Parameter(s)\n",
    "    * $\\mu$ - mean\n",
    "    * $\\sigma$ - standard deviation\n",
    "\n",
    "* Use Cases\n",
    "    * Almost all the time\n",
    "    * Populations/Samples\n",
    "        * Measure something on a population\n",
    "        \n",
    "### Binomial Distribution\n",
    "* Use Cases\n",
    "    * Coin Flips\n",
    "    * Win vs Lose\n",
    "    * This vs That\n",
    "    * 2 independent events with some number of trials \n",
    "    \n",
    "* Parameter(s)\n",
    "    * $p$ - probability of success\n",
    "    * $n$ - number of trials\n",
    "    \n",
    "### Poisson Distribution\n",
    "* Use Cases\n",
    "    * Measuring the rate of an event over a time interval\n",
    "    * Event/Interval \n",
    "    * Defective phones/1000 phones\n",
    "\n",
    "* Parameters(s)\n",
    "    * $\\lambda$ - rate of an event occuring\n",
    "\n",
    "### Exponential Distributionf\n",
    "* Use Cases\n",
    "    * Growth and decay\n",
    "    * How long until some event occurs\n",
    "    * How long until an event decays to some value\n",
    "\n",
    "* Parameters\n",
    "    * $\\lambda$ - rate of growth/decay\n",
    "    \n",
    "\n",
    "### Uniform Distribution\n",
    "* Use Cases\n",
    "    * Rolling a Dice\n",
    "    * Picking a Card\n",
    "    * Anything that has 'fairness'\n",
    "\n",
    "* Parameters\n",
    "    * $n$ - number of fair events"
   ]
  },
  {
   "cell_type": "markdown",
   "metadata": {},
   "source": [
    "### Let's get into Normal Distributions\n",
    "how do we measure normality?\n",
    "\n",
    "* Mean, Median, Mode being equal...hmmm...this is great for symmetry, but misses the bell curve\n",
    "* 65, 95, 99.7 test 1std, 2std, 3stds from the mean, checks the bell curve\n",
    "* Skewness....\n",
    "    * How well the data is distributed about the mean\n",
    "    * How 'centered' the data is\n",
    "    * which direction the data is stretched\n",
    "* Kurtosis....\n",
    "    * How fat/thin the tails are"
   ]
  },
  {
   "cell_type": "code",
   "execution_count": 6,
   "metadata": {},
   "outputs": [
    {
     "data": {
      "text/plain": [
       "(8.77, 5.835846125456016)"
      ]
     },
     "execution_count": 6,
     "metadata": {},
     "output_type": "execute_result"
    }
   ],
   "source": [
    "# let's make a random list of integers between 0 and 20\n",
    "x = np.random.randint(0, 20, 100)\n",
    "x.mean(), x.std()"
   ]
  },
  {
   "cell_type": "code",
   "execution_count": 17,
   "metadata": {},
   "outputs": [
    {
     "data": {
      "image/png": "[encoded data removed]",
      "text/plain": [
       "<Figure size 432x288 with 1 Axes>"
      ]
     },
     "metadata": {
      "needs_background": "light"
     },
     "output_type": "display_data"
    }
   ],
   "source": [
    "ostd = x.mean() + x.std()\n",
    "mostd = x.mean() - x.std()\n",
    "tstd = x.mean() + 2*x.std()\n",
    "mtstd = x.mean() - 2*x.std()\n",
    "plt.grid()\n",
    "plt.hist(x, color='b', alpha=0.5, bins=20)\n",
    "plt.vlines(x=x.mean(), ymin=0, ymax=14, linestyle='dashed', colors='r', linewidth=2, label=str(x.mean()))\n",
    "plt.vlines(x=ostd, ymin=0, ymax=14, linestyle='dashed', colors='r', linewidth=2, label='1 std')\n",
    "plt.vlines(x=mostd, ymin=0, ymax=14, linestyle='dashed', colors='r', linewidth=2, label='-1 std')\n",
    "plt.vlines(x=tstd, ymin=0, ymax=14, linestyle='dashed', colors='r', linewidth=2, label='2 std')\n",
    "plt.vlines(x=mtstd, ymin=0, ymax=14, linestyle='dashed', colors='r', linewidth=2, label='-2 std')\n",
    "plt.legend()\n",
    "plt.show()"
   ]
  },
  {
   "cell_type": "code",
   "execution_count": 15,
   "metadata": {},
   "outputs": [
    {
     "data": {
      "text/plain": [
       "0.21313781521088626"
      ]
     },
     "execution_count": 15,
     "metadata": {},
     "output_type": "execute_result"
    }
   ],
   "source": [
    "stats.skew(x)"
   ]
  },
  {
   "cell_type": "code",
   "execution_count": 18,
   "metadata": {},
   "outputs": [
    {
     "data": {
      "text/plain": [
       "1.8182735276812516"
      ]
     },
     "execution_count": 18,
     "metadata": {},
     "output_type": "execute_result"
    }
   ],
   "source": [
    "stats.kurtosis(x, fisher=False)"
   ]
  },
  {
   "cell_type": "markdown",
   "metadata": {},
   "source": [
    "### Measure the Skewness and Kurtosis"
   ]
  },
  {
   "cell_type": "code",
   "execution_count": 19,
   "metadata": {},
   "outputs": [
    {
     "data": {
      "text/plain": [
       "(0.21313781521088626, 1.8182735276812516)"
      ]
     },
     "execution_count": 19,
     "metadata": {},
     "output_type": "execute_result"
    }
   ],
   "source": [
    "skew = stats.skew(x)\n",
    "kurtosis = stats.kurtosis(x, fisher=False)\n",
    "skew, kurtosis\n",
    "\n",
    "# skewness measures symmetry\n",
    "# kurtosis measures tendancy around mean\n",
    "# most points should fall within 3 std of mean\n",
    "# kurtosis should be around 3"
   ]
  },
  {
   "cell_type": "markdown",
   "metadata": {},
   "source": [
    "### get percentages for standard deviation ranges"
   ]
  },
  {
   "cell_type": "code",
   "execution_count": 20,
   "metadata": {},
   "outputs": [
    {
     "name": "stdout",
     "output_type": "stream",
     "text": [
      "points within 1 standard deviations = 0.76\n",
      "points within 2 standard deviations = 1.0\n",
      "points within 3 standard deviations = 1.0\n",
      "points within 4 standard deviations = 1.0\n"
     ]
    }
   ],
   "source": [
    "# what does this return?\n",
    "for i in range(1, 5):\n",
    "    num_points = np.where(abs(x) < (x.mean() + i*x.std()))[0].shape[0]\n",
    "    print(\"points within {} standard deviations = {}\".format(i, num_points/100))\n",
    "    # tuple "
   ]
  },
  {
   "cell_type": "code",
   "execution_count": 21,
   "metadata": {},
   "outputs": [
    {
     "data": {
      "text/plain": [
       "3.2557404002003785"
      ]
     },
     "execution_count": 21,
     "metadata": {},
     "output_type": "execute_result"
    }
   ],
   "source": [
    "(x.max() - x.min()) / x.std()"
   ]
  },
  {
   "cell_type": "markdown",
   "metadata": {},
   "source": [
    "### Let's make a normal dataset"
   ]
  },
  {
   "cell_type": "code",
   "execution_count": 27,
   "metadata": {},
   "outputs": [
    {
     "data": {
      "text/plain": [
       "(9.953785908122375, 2.039472779419996)"
      ]
     },
     "execution_count": 27,
     "metadata": {},
     "output_type": "execute_result"
    }
   ],
   "source": [
    "nx = np.random.normal(10, 2, 2000)\n",
    "nx.mean(), nx.std()"
   ]
  },
  {
   "cell_type": "code",
   "execution_count": 28,
   "metadata": {},
   "outputs": [
    {
     "data": {
      "text/plain": [
       "[]"
      ]
     },
     "execution_count": 28,
     "metadata": {},
     "output_type": "execute_result"
    },
    {
     "data": {
      "image/png": "[encoded data removed]",
      "text/plain": [
       "<Figure size 432x432 with 1 Axes>"
      ]
     },
     "metadata": {
      "needs_background": "light"
     },
     "output_type": "display_data"
    }
   ],
   "source": [
    "plt.figure(figsize=(6, 6))\n",
    "plt.hist(nx, label='x', alpha=0.5, bins=20)\n",
    "plt.vlines(x=nx.mean(), ymin=0, ymax=20, colors='r', linestyle='dashed')\n",
    "plt.vlines(x=nx.mean() + nx.std(), ymin=0, ymax=20, colors='r', linestyle='dashed')\n",
    "plt.vlines(x=nx.mean() - nx.std(), ymin=0, ymax=20, colors='r', linestyle='dashed')\n",
    "plt.plot()"
   ]
  },
  {
   "cell_type": "code",
   "execution_count": 29,
   "metadata": {},
   "outputs": [
    {
     "data": {
      "text/plain": [
       "(0.009360004854058976, 3.057127225592856)"
      ]
     },
     "execution_count": 29,
     "metadata": {},
     "output_type": "execute_result"
    }
   ],
   "source": [
    "skew = stats.skew(nx)\n",
    "kurt = stats.kurtosis(nx, fisher=False)\n",
    "skew, kurt"
   ]
  },
  {
   "cell_type": "code",
   "execution_count": 30,
   "metadata": {},
   "outputs": [
    {
     "data": {
      "text/plain": [
       "(0.30116322228408987, 0.8602075246242011)"
      ]
     },
     "execution_count": 30,
     "metadata": {},
     "output_type": "execute_result"
    }
   ],
   "source": [
    "stats.jarque_bera(nx) # h0 : nx is normal"
   ]
  },
  {
   "cell_type": "code",
   "execution_count": 31,
   "metadata": {},
   "outputs": [],
   "source": [
    "# Zscores\n",
    "def zscore(arr):\n",
    "    return (arr - arr.mean())/arr.std()"
   ]
  },
  {
   "cell_type": "code",
   "execution_count": 39,
   "metadata": {},
   "outputs": [],
   "source": [
    "nx1 = np.random.poisson(5, 1000)\n",
    "nx2 = np.random.normal(100, 8, 1000)"
   ]
  },
  {
   "cell_type": "code",
   "execution_count": 40,
   "metadata": {},
   "outputs": [
    {
     "data": {
      "image/png": "[encoded data removed]",
      "text/plain": [
       "<Figure size 576x360 with 1 Axes>"
      ]
     },
     "metadata": {
      "needs_background": "light"
     },
     "output_type": "display_data"
    }
   ],
   "source": [
    "plt.figure(figsize=(8, 5))\n",
    "plt.grid(zorder=-1)\n",
    "plt.hist(nx1, bins=20, color='r', alpha=0.5)\n",
    "plt.hist(nx2, bins=20, color='b', alpha=0.5)\n",
    "plt.show()"
   ]
  },
  {
   "cell_type": "code",
   "execution_count": 41,
   "metadata": {},
   "outputs": [
    {
     "data": {
      "image/png": "[encoded data removed]",
      "text/plain": [
       "<Figure size 576x360 with 1 Axes>"
      ]
     },
     "metadata": {
      "needs_background": "light"
     },
     "output_type": "display_data"
    }
   ],
   "source": [
    "plt.figure(figsize=(8, 5))\n",
    "plt.grid(zorder=-1)\n",
    "plt.hist(zscore(nx2), bins=20, color='b', alpha=0.5)\n",
    "plt.hist(zscore(nx1), bins=20, color='r', alpha=0.5)\n",
    "plt.show()"
   ]
  },
  {
   "cell_type": "markdown",
   "metadata": {},
   "source": [
    "### Assessment"
   ]
  },
  {
   "cell_type": "markdown",
   "metadata": {},
   "source": [
    "What does it mean to have a skewness close to 0?\n",
    "* Balanced\n",
    "* Symmetrical\n",
    "\n",
    "What does it mean to have a kurtosis (pearson) close to 3?\n",
    "* The distribution has the same kurtosis as a normal distribution\n",
    "* Most of your data lies within 3 standard deviations from mean\n",
    "\n",
    "\n",
    "\n",
    "Need both to measure normality!!!\n",
    "\n",
    "Skewness close to 0\n",
    "\n",
    "Kurtosis close to 3"
   ]
  }
 ],
 "metadata": {
  "kernelspec": {
   "display_name": "Python 3",
   "language": "python",
   "name": "python3"
  },
  "language_info": {
   "codemirror_mode": {
    "name": "ipython",
    "version": 3
   },
   "file_extension": ".py",
   "mimetype": "text/x-python",
   "name": "python",
   "nbconvert_exporter": "python",
   "pygments_lexer": "ipython3",
   "version": "3.7.3"
  }
 },
 "nbformat": 4,
 "nbformat_minor": 2
}
